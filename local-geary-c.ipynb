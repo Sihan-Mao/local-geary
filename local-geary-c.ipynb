{
 "cells": [
  {
   "cell_type": "markdown",
   "metadata": {},
   "source": [
    "# Design local geary c function in R"
   ]
  },
  {
   "cell_type": "markdown",
   "metadata": {},
   "source": [
    "Author: *Ali Syed* and *Sihan Mao*"
   ]
  },
  {
   "cell_type": "markdown",
   "metadata": {},
   "source": [
    "## 1. Setup"
   ]
  },
  {
   "cell_type": "code",
   "execution_count": 94,
   "metadata": {},
   "outputs": [],
   "source": [
    "# try airbnb data for local moran and local geary comparison\n",
    "# import packages\n",
    "library(sf)          \n",
    "library(spdep)\n",
    "library(dplyr)\n",
    "library(tidyverse)\n",
    "library(stringr)\n",
    "library(rgeos)\n",
    "library(rgdal)\n",
    "library(lubridate)\n",
    "library(tmap)"
   ]
  },
  {
   "cell_type": "code",
   "execution_count": 2,
   "metadata": {},
   "outputs": [],
   "source": [
    "#set the working directory \n",
    "setwd(\"D:/Auguste/UChicago/2018-2019/2019spring/GIS III//final project//airbnb\")"
   ]
  },
  {
   "cell_type": "markdown",
   "metadata": {},
   "source": [
    "Sample data: Chicago Airbnb data in 2015"
   ]
  },
  {
   "cell_type": "code",
   "execution_count": 3,
   "metadata": {},
   "outputs": [
    {
     "name": "stdout",
     "output_type": "stream",
     "text": [
      "Reading layer `airbnb_Chicago 2015' from data source `D:\\Auguste\\UChicago\\2018-2019\\2019spring\\GIS III\\final project\\airbnb\\airbnb_Chicago 2015.shp' using driver `ESRI Shapefile'\n",
      "Simple feature collection with 77 features and 20 fields\n",
      "geometry type:  MULTIPOLYGON\n",
      "dimension:      XY\n",
      "bbox:           xmin: -87.94011 ymin: 41.64454 xmax: -87.52414 ymax: 42.02304\n",
      "epsg (SRID):    4326\n",
      "proj4string:    +proj=longlat +datum=WGS84 +no_defs\n"
     ]
    }
   ],
   "source": [
    "airbnb <- read_sf('airbnb_Chicago 2015.shp', quiet = FALSE)"
   ]
  },
  {
   "cell_type": "markdown",
   "metadata": {},
   "source": [
    "### 1.1 Sample Data Introduction"
   ]
  },
  {
   "cell_type": "markdown",
   "metadata": {},
   "source": [
    "**Dataset Description**: The dataset is the test dataset of tutorial for calculating local Geary c in R. The test requires a continuous variable as the attribute of polygons. The dataset includes Airbnb rents and boundaries of community areas in Chicago."
   ]
  },
  {
   "cell_type": "markdown",
   "metadata": {},
   "source": [
    "**Type**: Polygon shapefile; Observations: 77; Variables: 3 "
   ]
  },
  {
   "cell_type": "markdown",
   "metadata": {},
   "source": [
    "**Variables to be included**: \n",
    "\n",
    "- *community* - name of community area \n",
    "- *AREAID* – ID number associated with community area \n",
    "- *price_pp* – price per person of Airbnb"
   ]
  },
  {
   "cell_type": "markdown",
   "metadata": {},
   "source": [
    "**Source**: \n",
    "\n",
    "1): GeoDa Center (https://geodacenter.github.io/data-and-lab//airbnb_Chicago-2015/), based on data from Chicago Data Portal (https://data.cityofchicago.org/);\n",
    "\n",
    "2): Inside Airbnb (http://insideairbnb.com/get-the-data.html). \n"
   ]
  },
  {
   "cell_type": "markdown",
   "metadata": {},
   "source": [
    "## 2. Create neighbors and weights"
   ]
  },
  {
   "cell_type": "code",
   "execution_count": 4,
   "metadata": {},
   "outputs": [
    {
     "data": {
      "text/plain": [
       "Neighbour list object:\n",
       "Number of regions: 77 \n",
       "Number of nonzero links: 370 \n",
       "Percentage nonzero weights: 6.240513 \n",
       "Average number of links: 4.805195 "
      ]
     },
     "metadata": {},
     "output_type": "display_data"
    }
   ],
   "source": [
    "# Calculate neighbours\n",
    "nb2 <- poly2nb(airbnb, queen = FALSE)\n",
    "nb2\n",
    "\n",
    "listw2 <- nb2listw(nb2)\n",
    "\n",
    "local2 <- localmoran(x = airbnb$income_pc, listw = nb2listw(nb2, style = \"W\"))"
   ]
  },
  {
   "cell_type": "markdown",
   "metadata": {},
   "source": [
    "## 3. Local Geary C "
   ]
  },
  {
   "cell_type": "markdown",
   "metadata": {},
   "source": [
    "Calculate global geary c from local geary c"
   ]
  },
  {
   "cell_type": "markdown",
   "metadata": {},
   "source": [
    "- Local Geary c:"
   ]
  },
  {
   "cell_type": "markdown",
   "metadata": {},
   "source": [
    "$$LG_i = \\sum_{j=1}^{n}w_{ij}(x_i-x_j)^2$$"
   ]
  },
  {
   "cell_type": "markdown",
   "metadata": {},
   "source": [
    "small local Geary c implies similarity and positive spatial autocorrelation."
   ]
  },
  {
   "cell_type": "markdown",
   "metadata": {},
   "source": [
    "### 3.1 Calculate local Geary c"
   ]
  },
  {
   "cell_type": "code",
   "execution_count": 7,
   "metadata": {},
   "outputs": [
    {
     "data": {
      "text/plain": [
       "     Min.   1st Qu.    Median      Mean   3rd Qu.      Max. \n",
       "4.910e+06 3.689e+07 8.253e+07 1.726e+08 1.993e+08 1.208e+09 "
      ]
     },
     "metadata": {},
     "output_type": "display_data"
    }
   ],
   "source": [
    "## create an empty vector for local geary c\n",
    "ci2 = vector(\"double\")\n",
    "\n",
    "## calculate local geary c \n",
    "for (i in 1:(length(airbnb$income_pc))) {\n",
    "  ci2[i] = sum((airbnb$income_pc[i] - airbnb$income_pc[nb2[[i]]])^2)/length(nb2[[i]])\n",
    "}\n",
    "\n",
    "summary(ci2)"
   ]
  },
  {
   "cell_type": "markdown",
   "metadata": {},
   "source": [
    "**ci2** is the local geary c statistic created for each polygon."
   ]
  },
  {
   "cell_type": "markdown",
   "metadata": {},
   "source": [
    "### 3.2 Visualize local Geary c"
   ]
  },
  {
   "cell_type": "code",
   "execution_count": 8,
   "metadata": {},
   "outputs": [
    {
     "data": {
      "image/png": "[encoded data removed]",
      "text/plain": [
       "plot without title"
      ]
     },
     "metadata": {},
     "output_type": "display_data"
    }
   ],
   "source": [
    "gearymap <- cbind(airbnb, ci2)\n",
    "tm_shape(gearymap) + tm_fill(col = \"ci2\", style = \"quantile\", title = \"local geary statistic\")"
   ]
  },
  {
   "cell_type": "markdown",
   "metadata": {},
   "source": [
    "### 3.3 Verify local Gear c with global Geary"
   ]
  },
  {
   "cell_type": "markdown",
   "metadata": {},
   "source": [
    "- Global Geary c: "
   ]
  },
  {
   "cell_type": "markdown",
   "metadata": {},
   "source": [
    "$$C = \\frac{(n-1)}{2\\sum_{i=1}^{n}\\sum_{j=1}^{n}w_{ij}} \\frac{\\sum_{i=1}^{n}\\sum_{j=1}^{n}w_{ij}(x_i-x_j)^2}{\\sum_{i=1}^{n}(x_i - \\bar{x})^2}$$"
   ]
  },
  {
   "cell_type": "code",
   "execution_count": 22,
   "metadata": {},
   "outputs": [
    {
     "data": {
      "text/html": [
       "0.369053984092251"
      ],
      "text/latex": [
       "0.369053984092251"
      ],
      "text/markdown": [
       "0.369053984092251"
      ],
      "text/plain": [
       "[1] 0.369054"
      ]
     },
     "metadata": {},
     "output_type": "display_data"
    }
   ],
   "source": [
    "## calculate global geary c\n",
    "sum(ci2)/(var(airbnb$income_pc)*2*77)"
   ]
  },
  {
   "cell_type": "markdown",
   "metadata": {},
   "source": [
    "Compare with global geary c from function geary.test"
   ]
  },
  {
   "cell_type": "code",
   "execution_count": 28,
   "metadata": {},
   "outputs": [
    {
     "data": {
      "text/plain": [
       "\n",
       "\tGeary C test under randomisation\n",
       "\n",
       "data:  airbnb$income_pc \n",
       "weights: listw2 \n",
       "\n",
       "Geary C statistic standard deviate = 7.4298, p-value = 5.439e-14\n",
       "alternative hypothesis: Expectation greater than statistic\n",
       "sample estimates:\n",
       "Geary C statistic       Expectation          Variance \n",
       "      0.369053984       1.000000000       0.007211626 \n"
      ]
     },
     "metadata": {},
     "output_type": "display_data"
    }
   ],
   "source": [
    "# compare with geary c function\n",
    "geary.test(airbnb$income_pc,listw2)"
   ]
  },
  {
   "cell_type": "markdown",
   "metadata": {},
   "source": [
    "Manually calculated global geary c is consistent with the result from geary test function, which indicates that the computed local geary c is correct. "
   ]
  },
  {
   "cell_type": "markdown",
   "metadata": {},
   "source": [
    "## 4. Permutation and Significance"
   ]
  },
  {
   "cell_type": "markdown",
   "metadata": {},
   "source": [
    "Calculating local Geary c is not the last step of spatial autocorrelation analysis. *\"An important methodological issue associated with the local spatial autocorrelation statistics is the selection of the p-value cut-off to properly reflect the desired Type I error.\"*$^1$"
   ]
  },
  {
   "cell_type": "markdown",
   "metadata": {},
   "source": [
    "Permutation is required to simulate spatial randomness in order to generate plausible p-values for local Gear c statistics."
   ]
  },
  {
   "cell_type": "markdown",
   "metadata": {},
   "source": [
    "### 4.1 Significance and Permutation"
   ]
  },
  {
   "cell_type": "markdown",
   "metadata": {},
   "source": [
    "*Still working on creating permutation functions from python community*"
   ]
  },
  {
   "cell_type": "markdown",
   "metadata": {},
   "source": [
    "Instead, we generate p-value using normal distribution for convenience."
   ]
  },
  {
   "cell_type": "code",
   "execution_count": 26,
   "metadata": {},
   "outputs": [],
   "source": [
    "n <- nrow(airbnb)\n",
    "res <- matrix(nrow=n, ncol=5)\n",
    "colnames(res) <- c(\"c\", \"E.c\", \"Std.c\", \"Z.c\", \"P-value\")"
   ]
  },
  {
   "cell_type": "code",
   "execution_count": 54,
   "metadata": {},
   "outputs": [
    {
     "data": {
      "text/html": [
       "<table>\n",
       "<thead><tr><th scope=col>c</th><th scope=col>E.c</th><th scope=col>Var.c</th><th scope=col>Z.c</th><th scope=col>P-value</th></tr></thead>\n",
       "<tbody>\n",
       "\t<tr><td>331055382   </td><td>172627846   </td><td>26635617    </td><td> 5.9479583  </td><td>2.715078e-09</td></tr>\n",
       "\t<tr><td>105311067   </td><td>172627846   </td><td>26635617    </td><td>-2.5273220  </td><td>1.149361e-02</td></tr>\n",
       "\t<tr><td> 61979389   </td><td>172627846   </td><td>26635617    </td><td>-4.1541542  </td><td>3.264930e-05</td></tr>\n",
       "\t<tr><td> 81693238   </td><td>172627846   </td><td>26635617    </td><td>-3.4140230  </td><td>6.401117e-04</td></tr>\n",
       "\t<tr><td>147380676   </td><td>172627846   </td><td>26635617    </td><td>-0.9478726  </td><td>3.431943e-01</td></tr>\n",
       "\t<tr><td>157423182   </td><td>172627846   </td><td>26635617    </td><td>-0.5708396  </td><td>5.681084e-01</td></tr>\n",
       "</tbody>\n",
       "</table>\n"
      ],
      "text/latex": [
       "\\begin{tabular}{lllll}\n",
       " c & E.c & Var.c & Z.c & P-value\\\\\n",
       "\\hline\n",
       "\t 331055382    & 172627846    & 26635617     &  5.9479583   & 2.715078e-09\\\\\n",
       "\t 105311067    & 172627846    & 26635617     & -2.5273220   & 1.149361e-02\\\\\n",
       "\t  61979389    & 172627846    & 26635617     & -4.1541542   & 3.264930e-05\\\\\n",
       "\t  81693238    & 172627846    & 26635617     & -3.4140230   & 6.401117e-04\\\\\n",
       "\t 147380676    & 172627846    & 26635617     & -0.9478726   & 3.431943e-01\\\\\n",
       "\t 157423182    & 172627846    & 26635617     & -0.5708396   & 5.681084e-01\\\\\n",
       "\\end{tabular}\n"
      ],
      "text/markdown": [
       "\n",
       "| c | E.c | Var.c | Z.c | P-value |\n",
       "|---|---|---|---|---|\n",
       "| 331055382    | 172627846    | 26635617     |  5.9479583   | 2.715078e-09 |\n",
       "| 105311067    | 172627846    | 26635617     | -2.5273220   | 1.149361e-02 |\n",
       "|  61979389    | 172627846    | 26635617     | -4.1541542   | 3.264930e-05 |\n",
       "|  81693238    | 172627846    | 26635617     | -3.4140230   | 6.401117e-04 |\n",
       "| 147380676    | 172627846    | 26635617     | -0.9478726   | 3.431943e-01 |\n",
       "| 157423182    | 172627846    | 26635617     | -0.5708396   | 5.681084e-01 |\n",
       "\n"
      ],
      "text/plain": [
       "     c         E.c       Var.c    Z.c        P-value     \n",
       "[1,] 331055382 172627846 26635617  5.9479583 2.715078e-09\n",
       "[2,] 105311067 172627846 26635617 -2.5273220 1.149361e-02\n",
       "[3,]  61979389 172627846 26635617 -4.1541542 3.264930e-05\n",
       "[4,]  81693238 172627846 26635617 -3.4140230 6.401117e-04\n",
       "[5,] 147380676 172627846 26635617 -0.9478726 3.431943e-01\n",
       "[6,] 157423182 172627846 26635617 -0.5708396 5.681084e-01"
      ]
     },
     "metadata": {},
     "output_type": "display_data"
    }
   ],
   "source": [
    "res[,1] <- ci2\n",
    "res[,2] <- mean(res[,1]) \n",
    "res[,3] <- sqrt(var(res[,1]) / (n-1))\n",
    "res[,4] <- (res[,1] -res[,2]) / res[,3]\n",
    "res[,5] <- 2 * pnorm(abs(res[,4]), lower.tail=FALSE)\n",
    "head(res)"
   ]
  },
  {
   "cell_type": "markdown",
   "metadata": {},
   "source": [
    "### 4.2 Match $LG_I$ with small deviations to local morans' I quadrent"
   ]
  },
  {
   "cell_type": "markdown",
   "metadata": {},
   "source": [
    "*Need to establish on the function of permutation in order to filter out significant polygons*."
   ]
  },
  {
   "cell_type": "markdown",
   "metadata": {},
   "source": [
    "\"The locations identified as significant and with the Local Geary statistic smaller than its mean, suggest positive spatial autocorrelation (small differences imply similarity). For those observations that can be classified in the upper-right or lower-left quadrants of a matching Moran scatter plot, we can identify the association as high-high or low-low. However, given that the squared difference can cross the mean, there may be observations for which such a classification is not possible. We will refer to those as other positive spatial autocorrelation.\"$^2$"
   ]
  },
  {
   "cell_type": "code",
   "execution_count": 62,
   "metadata": {},
   "outputs": [],
   "source": [
    "# matching Moran scatter plot\n",
    "quadrant_m <- vector(mode=\"numeric\",length=nrow(local2))\n",
    "\n",
    "# centers the variable of interest around its mean\n",
    "mean_income <- airbnb$income_pc - mean(airbnb$income_pc)       \n",
    "\n",
    "# builds a data quadrant\n",
    "quadrant_m[mean_income >0 & m.local2>0] <- 4  \n",
    "quadrant_m[mean_income <0 & m.local2<0] <- 1      \n",
    "quadrant_m[mean_income <0 & m.local2>0] <- 2\n",
    "quadrant_m[mean_income >0 & m.local2<0] <- 3"
   ]
  },
  {
   "cell_type": "code",
   "execution_count": 87,
   "metadata": {},
   "outputs": [],
   "source": [
    "# categorize local geary c\n",
    "quadrant_c <- vector(mode=\"numeric\",length=nrow(local2))\n",
    "\n",
    "# significance threshold\n",
    "signif_c <- 0.01 \n",
    "\n",
    "# centers the local Geary around the mean\n",
    "m.geary <- res[,1] - res[,2]  \n",
    "\n",
    "# builds a data quadrant\n",
    "quadrant_c[quadrant_m == 4 & m.geary < 0] <- 4  ## high-high\n",
    "quadrant_c[quadrant_m == 1 & m.geary < 0] <- 3  ## low-low    \n",
    "quadrant_c[m.geary > 0] <- 2 ## negative\n",
    "quadrant_c[quadrant_m == 2 & m.geary < 0]<- 1 ## other positive\n",
    "quadrant_c[quadrant_m == 3 & m.geary < 0] <- 1 ## other positive\n",
    "quadrant_c[res[,5]>signif_c] <- 0  "
   ]
  },
  {
   "cell_type": "code",
   "execution_count": 88,
   "metadata": {},
   "outputs": [],
   "source": [
    "res_cat <- cbind(res, quadrant_m, quadrant_c)"
   ]
  },
  {
   "cell_type": "code",
   "execution_count": 91,
   "metadata": {},
   "outputs": [
    {
     "data": {
      "text/html": [],
      "text/latex": [],
      "text/markdown": [],
      "text/plain": [
       "numeric(0)"
      ]
     },
     "metadata": {},
     "output_type": "display_data"
    }
   ],
   "source": [
    "res_cat[quadrant_c == 4]"
   ]
  },
  {
   "cell_type": "code",
   "execution_count": 90,
   "metadata": {},
   "outputs": [
    {
     "data": {
      "image/png": "[encoded data removed]"
     },
     "metadata": {},
     "output_type": "display_data"
    }
   ],
   "source": [
    "# plot in r\n",
    "brks <- c(0,1,2,3,4)\n",
    "colors <- c(\"white\",\"blue\",rgb(0,0,1,alpha=0.4),rgb(1,0,0,alpha=0.4),\"red\")\n",
    "plot(airbnb[0], border=\"lightgray\",col=colors[findInterval(quadrant_c,brks,all.inside=FALSE)])\n",
    "box()\n",
    "legend(\"bottomleft\",legend=c(\"insignificant\",\"other positive\",\"negative\",\"low-low\",\"high-high\"),\n",
    "       fill=colors,bty=\"n\")"
   ]
  },
  {
   "cell_type": "markdown",
   "metadata": {},
   "source": [
    "### 4.3 Visualize local Geary c"
   ]
  },
  {
   "cell_type": "code",
   "execution_count": 9,
   "metadata": {},
   "outputs": [
    {
     "name": "stderr",
     "output_type": "stream",
     "text": [
      "Variable \"Ii\" contains positive and negative values, so midpoint is set to 0. Set midpoint = NA to show the full spectrum of the color palette.\n"
     ]
    },
    {
     "data": {
      "image/png": "[encoded data removed]",
      "text/plain": [
       "plot without title"
      ]
     },
     "metadata": {},
     "output_type": "display_data"
    },
    {
     "data": {
      "text/plain": [
       "    Min.  1st Qu.   Median     Mean  3rd Qu.     Max. \n",
       "-0.03013 -0.03013 -0.03013 -0.03013 -0.03013 -0.03013 "
      ]
     },
     "metadata": {},
     "output_type": "display_data"
    },
    {
     "data": {
      "image/png": "[encoded data removed]",
      "text/plain": [
       "plot without title"
      ]
     },
     "metadata": {},
     "output_type": "display_data"
    }
   ],
   "source": [
    "moranmap <- cbind(airbnb, local2)\n",
    "tm_shape(moranmap) + tm_fill(col = \"Ii\", style = \"quantile\", title = \"local moran statistic\")\n",
    "\n",
    "moran <- moran.plot(airbnb$income_pc, listw = nb2listw(nb2, style = \"W\"))\n",
    "summary(local2[1])"
   ]
  },
  {
   "cell_type": "markdown",
   "metadata": {},
   "source": [
    "### 4.4 Compare with local Moran's I "
   ]
  },
  {
   "cell_type": "code",
   "execution_count": 52,
   "metadata": {},
   "outputs": [
    {
     "data": {
      "image/png": "[encoded data removed]"
     },
     "metadata": {},
     "output_type": "display_data"
    }
   ],
   "source": [
    "### create LISA map with significance \n",
    "### to create LISA cluster map ### \n",
    "quadrant <- vector(mode=\"numeric\",length=nrow(local2))\n",
    "\n",
    "# centers the variable of interest around its mean\n",
    "mean_income <- airbnb$income_pc - mean(airbnb$income_pc)     \n",
    "\n",
    "# centers the local Moran's around the mean\n",
    "m.local2 <- local2[,1] - mean(local2[,1])    \n",
    "\n",
    "# significance threshold\n",
    "signif <- 0.05 \n",
    "\n",
    "# builds a data quadrant\n",
    "quadrant[mean_income >0 & m.local2>0] <- 4  \n",
    "quadrant[mean_income <0 & m.local2<0] <- 1      \n",
    "quadrant[mean_income <0 & m.local2>0] <- 2\n",
    "quadrant[mean_income >0 & m.local2<0] <- 3\n",
    "quadrant[local2[,5]>signif] <- 0   \n",
    "\n",
    "# plot in r\n",
    "brks <- c(0,1,2,3,4)\n",
    "colors <- c(\"white\",\"blue\",rgb(0,0,1,alpha=0.4),rgb(1,0,0,alpha=0.4),\"red\")\n",
    "plot(airbnb[0], border=\"lightgray\",col=colors[findInterval(quadrant,brks,all.inside=FALSE)])\n",
    "box()\n",
    "legend(\"bottomleft\",legend=c(\"insignificant\",\"low-low\",\"low-high\",\"high-low\",\"high-high\"),\n",
    "       fill=colors,bty=\"n\")"
   ]
  },
  {
   "cell_type": "markdown",
   "metadata": {},
   "source": [
    "## 5. Citation"
   ]
  },
  {
   "cell_type": "markdown",
   "metadata": {},
   "source": [
    "1. Anselin, Luc. 2019. \"Local Spatial Autocorrelation: Univariate Local Statistics\", *Center for Spatial Data Science at University of Chicago.* \n",
    "\n",
    "2. *ibid*"
   ]
  }
 ],
 "metadata": {
  "kernelspec": {
   "display_name": "R",
   "language": "R",
   "name": "ir"
  },
  "language_info": {
   "codemirror_mode": "r",
   "file_extension": ".r",
   "mimetype": "text/x-r-source",
   "name": "R",
   "pygments_lexer": "r",
   "version": "3.4.4"
  }
 },
 "nbformat": 4,
 "nbformat_minor": 2
}
